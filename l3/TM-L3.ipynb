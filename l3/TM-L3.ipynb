{
 "cells": [
  {
   "cell_type": "markdown",
   "metadata": {},
   "source": [
    "# L3: Text clustering and topic modelling"
   ]
  },
  {
   "cell_type": "markdown",
   "metadata": {},
   "source": [
    "Text clustering groups documents in such a way that documents within a group are more &lsquo;similar&rsquo; to other documents in the cluster than to documents not in the cluster. The exact definition of what &lsquo;similar&rsquo; means in this context varies across applications and clustering algorithms.\n",
    "\n",
    "In this lab you will experiment with both hard and soft clustering techniques. More specifically, in the first part you will be using the $k$-means algorithm, and in the second part you will be using a topic model based on the Latent Dirichlet Allocation (LDA)."
   ]
  },
  {
   "cell_type": "markdown",
   "metadata": {},
   "source": [
    "## Hard clustering data set"
   ]
  },
  {
   "cell_type": "markdown",
   "metadata": {},
   "source": [
    "The raw data for the hard clustering part of this lab is a collection of product reviews. We have preprocessed the data by tokenization and lowercasing."
   ]
  },
  {
   "cell_type": "code",
   "execution_count": 1,
   "metadata": {},
   "outputs": [],
   "source": [
    "import pandas as pd\n",
    "import bz2\n",
    "\n",
    "with bz2.open('reviews.json.bz2') as source:\n",
    "    df = pd.read_json(source)"
   ]
  },
  {
   "cell_type": "markdown",
   "metadata": {},
   "source": [
    "When you inspect the data frame, you can see that there are three labelled columns: `category` (the product category), `sentiment` (whether the product review was classified as &lsquo;positive&rsquo; or &lsquo;negative&rsquo; towards the product), and `text` (the space-separated text of the review)."
   ]
  },
  {
   "cell_type": "code",
   "execution_count": 2,
   "metadata": {},
   "outputs": [
    {
     "data": {
      "text/html": [
       "<div>\n",
       "<style scoped>\n",
       "    .dataframe tbody tr th:only-of-type {\n",
       "        vertical-align: middle;\n",
       "    }\n",
       "\n",
       "    .dataframe tbody tr th {\n",
       "        vertical-align: top;\n",
       "    }\n",
       "\n",
       "    .dataframe thead th {\n",
       "        text-align: right;\n",
       "    }\n",
       "</style>\n",
       "<table border=\"1\" class=\"dataframe\">\n",
       "  <thead>\n",
       "    <tr style=\"text-align: right;\">\n",
       "      <th></th>\n",
       "      <th>category</th>\n",
       "      <th>sentiment</th>\n",
       "      <th>text</th>\n",
       "    </tr>\n",
       "  </thead>\n",
       "  <tbody>\n",
       "    <tr>\n",
       "      <th>0</th>\n",
       "      <td>music</td>\n",
       "      <td>neg</td>\n",
       "      <td>i bought this album because i loved the title ...</td>\n",
       "    </tr>\n",
       "    <tr>\n",
       "      <th>1</th>\n",
       "      <td>music</td>\n",
       "      <td>neg</td>\n",
       "      <td>i was misled and thought i was buying the enti...</td>\n",
       "    </tr>\n",
       "    <tr>\n",
       "      <th>2</th>\n",
       "      <td>books</td>\n",
       "      <td>neg</td>\n",
       "      <td>i have introduced many of my ell , high school...</td>\n",
       "    </tr>\n",
       "    <tr>\n",
       "      <th>3</th>\n",
       "      <td>books</td>\n",
       "      <td>pos</td>\n",
       "      <td>anything you purchase in the left behind serie...</td>\n",
       "    </tr>\n",
       "    <tr>\n",
       "      <th>4</th>\n",
       "      <td>dvd</td>\n",
       "      <td>pos</td>\n",
       "      <td>i loved these movies , and i cant wiat for the...</td>\n",
       "    </tr>\n",
       "  </tbody>\n",
       "</table>\n",
       "</div>"
      ],
      "text/plain": [
       "  category sentiment                                               text\n",
       "0    music       neg  i bought this album because i loved the title ...\n",
       "1    music       neg  i was misled and thought i was buying the enti...\n",
       "2    books       neg  i have introduced many of my ell , high school...\n",
       "3    books       pos  anything you purchase in the left behind serie...\n",
       "4      dvd       pos  i loved these movies , and i cant wiat for the..."
      ]
     },
     "execution_count": 2,
     "metadata": {},
     "output_type": "execute_result"
    }
   ],
   "source": [
    "df.head()"
   ]
  },
  {
   "cell_type": "markdown",
   "metadata": {},
   "source": [
    "## Problem 1: K-means clustering"
   ]
  },
  {
   "cell_type": "markdown",
   "metadata": {},
   "source": [
    "Your first task is to cluster the product review data using a tf–idf vectorizer and a $k$-means clusterer."
   ]
  },
  {
   "cell_type": "markdown",
   "metadata": {},
   "source": [
    "Start by doing the vectorization. In connection with vectorization, you should also filter out standard English stop words. While you could use [spaCy](https://spacy.io/) for this task, here it suffices to use the word list implemented in [TfidfVectorizer](https://scikit-learn.org/stable/modules/generated/sklearn.feature_extraction.text.TfidfVectorizer.html)."
   ]
  },
  {
   "cell_type": "code",
   "execution_count": 3,
   "metadata": {},
   "outputs": [],
   "source": [
    "# TODO: Enter code here to vectorize the data and store it in a variable `reviews`\n",
    "import numpy as np\n",
    "from sklearn.feature_extraction.text import TfidfVectorizer\n",
    "vectorized_text = TfidfVectorizer(stop_words='english')\n",
    "reviews = vectorized_text.fit_transform(df['text'])"
   ]
  },
  {
   "cell_type": "markdown",
   "metadata": {},
   "source": [
    "Test your vectorization by running the following code cell:"
   ]
  },
  {
   "cell_type": "code",
   "execution_count": 4,
   "metadata": {},
   "outputs": [
    {
     "data": {
      "text/plain": [
       "(11914, 46619)"
      ]
     },
     "execution_count": 4,
     "metadata": {},
     "output_type": "execute_result"
    }
   ],
   "source": [
    "reviews.shape"
   ]
  },
  {
   "cell_type": "markdown",
   "metadata": {},
   "source": [
    "If you used the English stop word list from scikit-learn, then the resulting vocabulary should have 46,619 entries."
   ]
  },
  {
   "cell_type": "markdown",
   "metadata": {},
   "source": [
    "Next, cluster the vectorized data. Before doing so, you should read the documentation of the [KMeans](https://scikit-learn.org/stable/modules/generated/sklearn.cluster.KMeans.html) class, which is scikit-learn&rsquo;s implementation of the $k$-means algorithm. As you can see, this class has several parameters that you can tweak. For now, the only parameter that you will have to set is the number of clusters. We recommend that you choose $k=3$.\n",
    "\n",
    "**Tip:** Training $k$-means models will take some time. To speed things up, you can use the `n_init` parameter to control the number of times that the clustering is re-computed with different initial values. The default value for this parameter is 10; here and in the rest of this lab, you may want to set this to a lower value."
   ]
  },
  {
   "cell_type": "code",
   "execution_count": 5,
   "metadata": {},
   "outputs": [
    {
     "data": {
      "text/plain": [
       "array([2, 2, 2, ..., 0, 0, 0], dtype=int32)"
      ]
     },
     "execution_count": 5,
     "metadata": {},
     "output_type": "execute_result"
    }
   ],
   "source": [
    "# TODO: Enter code here to cluster the vectorized data\n",
    "from sklearn.cluster import KMeans\n",
    "model = KMeans(n_clusters=3,n_init = 5).fit(reviews)\n",
    "model.labels_"
   ]
  },
  {
   "cell_type": "code",
   "execution_count": 6,
   "metadata": {},
   "outputs": [
    {
     "data": {
      "text/plain": [
       "array([2, 2, 2, ..., 0, 0, 0], dtype=int32)"
      ]
     },
     "execution_count": 6,
     "metadata": {},
     "output_type": "execute_result"
    }
   ],
   "source": [
    "kmeans_prediction_3 = model.predict(reviews)\n",
    "kmeans_prediction_3"
   ]
  },
  {
   "cell_type": "markdown",
   "metadata": {},
   "source": [
    "To sanity-check your clustering, create a bar plot with the number of documents per cluster."
   ]
  },
  {
   "cell_type": "code",
   "execution_count": 7,
   "metadata": {},
   "outputs": [
    {
     "data": {
      "image/png": "[encoded data removed]",
      "text/plain": [
       "<Figure size 432x288 with 1 Axes>"
      ]
     },
     "metadata": {
      "needs_background": "light"
     },
     "output_type": "display_data"
    }
   ],
   "source": [
    "# TODO: Enter code here to produce a bar plot of the cluster size\n",
    "import seaborn as sns\n",
    "import matplotlib.pyplot as plt\n",
    "cp = sns.countplot(kmeans_prediction_3)\n",
    "cp.set(xlabel='Clusters', ylabel='Count')\n",
    "plt.show()"
   ]
  },
  {
   "cell_type": "markdown",
   "metadata": {},
   "source": [
    "Note that sizes may vary considerable between clusters and among different random seeds."
   ]
  },
  {
   "cell_type": "markdown",
   "metadata": {},
   "source": [
    "## Problem 2: Summarize clusters"
   ]
  },
  {
   "cell_type": "markdown",
   "metadata": {},
   "source": [
    "Once you have a clustering, you can try to see whether it is meaningful. One useful technique in that context is to generate a **summary** for each cluster by extracting the $n$ highest-weighted terms from the centroid of each cluster. Your next task is to implement this approach.\n",
    "\n",
    "**Hint:** You will need to construct an &lsquo;inverted vocabulary&rsquo; that allows you to map from the index of a term back to the original term."
   ]
  },
  {
   "cell_type": "code",
   "execution_count": 12,
   "metadata": {},
   "outputs": [],
   "source": [
    "# TODO: Enter code here to compute the cluster summaries and print them\n",
    "#source : https://scikit-learn.org/stable/modules/generated/sklearn.feature_extraction.text.TfidfVectorizer.html\n",
    "#vectorized_text.vocabulary_"
   ]
  },
  {
   "cell_type": "code",
   "execution_count": 8,
   "metadata": {},
   "outputs": [],
   "source": [
    "inverted_vocab = {}\n",
    "for word, index in vectorized_text.vocabulary_.items():\n",
    "    inverted_vocab[index] = word\n",
    "#inverted_vocab"
   ]
  },
  {
   "cell_type": "code",
   "execution_count": 9,
   "metadata": {},
   "outputs": [
    {
     "data": {
      "text/plain": [
       "array([[1.38163876e-03, 8.10707993e-04, 5.20276377e-05, ...,\n",
       "        5.41589444e-05, 0.00000000e+00, 2.85924929e-05],\n",
       "       [2.07097717e-03, 9.96864482e-04, 0.00000000e+00, ...,\n",
       "        0.00000000e+00, 0.00000000e+00, 0.00000000e+00],\n",
       "       [3.13195758e-04, 5.42513953e-04, 0.00000000e+00, ...,\n",
       "        0.00000000e+00, 3.53414015e-05, 0.00000000e+00]])"
      ]
     },
     "execution_count": 9,
     "metadata": {},
     "output_type": "execute_result"
    }
   ],
   "source": [
    "#model.cluster_centers_"
   ]
  },
  {
   "cell_type": "code",
   "execution_count": 10,
   "metadata": {},
   "outputs": [
    {
     "name": "stdout",
     "output_type": "stream",
     "text": [
      "Cluster 0: product use software does program great used work easy just\n",
      "Cluster 1: camera lens pictures canon digital use flash battery quality great\n",
      "Cluster 2: book movie like album cd just music great good quot\n"
     ]
    }
   ],
   "source": [
    "#source: https://scikit-learn.org/stable/auto_examples/text/plot_document_clustering.html#sphx-glr-auto-examples-text-plot-document-clustering-py\n",
    "def get_topn_features(n,no_of_cluster,model):\n",
    "    ordered_centroids = model.cluster_centers_.argsort()[:,::-1]\n",
    "    feature_names = vectorized_text.get_feature_names()\n",
    "    for i in range(no_of_cluster):\n",
    "        print(\"Cluster %d:\" % i, end='')\n",
    "        for indexes in ordered_centroids[i,:n]:\n",
    "            print(' %s' % feature_names[indexes], end='')\n",
    "        print()\n",
    "\n",
    "get_topn_features(10,3,model)"
   ]
  },
  {
   "cell_type": "markdown",
   "metadata": {},
   "source": [
    "Once you have computed the cluster summaries, discuss their quality. Is it clear what the reviews in a given cluster are about? Which clusters are clearest? Which are less clear? Do the cluster summaries contain any unexpected terms? What happens if you re-cluster with, say, $k=6$?"
   ]
  },
  {
   "cell_type": "code",
   "execution_count": 15,
   "metadata": {},
   "outputs": [
    {
     "data": {
      "image/png": "[encoded data removed]",
      "text/plain": [
       "<Figure size 432x288 with 1 Axes>"
      ]
     },
     "metadata": {
      "needs_background": "light"
     },
     "output_type": "display_data"
    }
   ],
   "source": [
    "model_6 = KMeans(n_clusters=6,n_init = 10).fit(reviews)\n",
    "kmeans_prediction_6 = model_6.predict(reviews)\n",
    "\n",
    "import seaborn as sns\n",
    "import matplotlib.pyplot as plt\n",
    "cp = sns.countplot(kmeans_prediction_6)\n",
    "cp.set(xlabel='Clusters', ylabel='Count')\n",
    "plt.show()"
   ]
  },
  {
   "cell_type": "code",
   "execution_count": 18,
   "metadata": {},
   "outputs": [
    {
     "name": "stdout",
     "output_type": "stream",
     "text": [
      "Cluster 0: product use great just like good does software time work\n",
      "Cluster 1: book read books author reading story like just written good\n",
      "Cluster 2: camera lens pictures canon digital use flash battery quality great\n",
      "Cluster 3: quot book cd album music just like song great good\n",
      "Cluster 4: movie film movies like story watch just good great acting\n",
      "Cluster 5: album cd music songs song like just great band good\n"
     ]
    }
   ],
   "source": [
    "get_topn_features(10,6,model_6)"
   ]
  },
  {
   "cell_type": "markdown",
   "metadata": {},
   "source": [
    "In general when increasing the the number of clusters it essentially makes each cluster more specific. Interesting that in 6 or 3 clusters we essentially got the same three clusters, but 6 just added a few more areas.\n",
    "\n",
    "The 3 clusters were actually pretty good, we had clusters about good software, cameras/photography, and books/movies."
   ]
  },
  {
   "cell_type": "markdown",
   "metadata": {},
   "source": [
    "## Problem 3: Compare clusterings using the Rand index"
   ]
  },
  {
   "cell_type": "markdown",
   "metadata": {},
   "source": [
    "In some scenarios, you may have gold-standard class labels available for at least a subset of your documents. In these cases you can compute the **Rand index** of a clustering, and use this measure to compare the quality of different clusterings.\n",
    "\n",
    "To compute the Rand index, we view a clustering as a binary classifier on (unordered) pairs of documents. The classifier predicts &lsquo;positive&rsquo; if and only if the two documents belong to the same cluster. The (non-normalized) Rand index of the clustering is the accuracy of this classifier relative to a reference in which a document pair belongs to the &lsquo;positive&rsquo; class if and only if the two documents in the pair have the same gold-standard class label.\n",
    "\n",
    "Compare clusterings with $k \\in \\{1,3,5,7\\}$ clusters. As your evaluation data, use the first 500 documents from the original data set along with their gold-standard categories (from the `category` column). What do you observe? How do you interpret your observations?"
   ]
  },
  {
   "cell_type": "code",
   "execution_count": 11,
   "metadata": {},
   "outputs": [
    {
     "data": {
      "text/plain": [
       "array(['books', 'camera', 'dvd', 'health', 'music', 'software'],\n",
       "      dtype=object)"
      ]
     },
     "execution_count": 11,
     "metadata": {},
     "output_type": "execute_result"
    }
   ],
   "source": [
    "np.unique(df['category'])"
   ]
  },
  {
   "cell_type": "code",
   "execution_count": 12,
   "metadata": {},
   "outputs": [
    {
     "name": "stdout",
     "output_type": "stream",
     "text": [
      "Cluster  1 :  0.17\n",
      "Cluster  3 :  0.66\n",
      "Cluster  5 :  0.8\n",
      "Cluster  7 :  0.79\n"
     ]
    }
   ],
   "source": [
    "# TODO: Enter code here to compute the Rand indices for the two clusterings\n",
    "clusters  = [1,3,5,7]\n",
    "data = df.head(500)\n",
    "reviews_500 = vectorized_text.fit_transform(data['text'])\n",
    "def calculate_Rand_Index(labels,predicted_labels):\n",
    "    output = []\n",
    "    for i in range(0,500):\n",
    "        for j in range(i+1,500):\n",
    "            if(predicted_labels[i] == predicted_labels[j]): #if both the prediction belongs to same cluster\n",
    "                if(labels[i] == labels[j]): #if both document labels are tend to be same\n",
    "                    output.append(1)\n",
    "                else:\n",
    "                    output.append(0)\n",
    "            else:\n",
    "                if(labels[i] == labels[j]): #clusters are different, but labels or categories are same.\n",
    "                    output.append(0)\n",
    "                else:\n",
    "                    output.append(1)\n",
    "    return output\n",
    "\n",
    "for i in clusters:\n",
    "    model = KMeans(n_clusters=i,n_init = 10).fit(reviews_500)\n",
    "    model_pred = model.predict(reviews_500)\n",
    "    rand_output = calculate_Rand_Index(data['category'],model_pred)\n",
    "    print(\"Cluster \",i,\": \",round(sum(rand_output)/len(rand_output),2))"
   ]
  },
  {
   "cell_type": "markdown",
   "metadata": {},
   "source": [
    "We can see by the results of rand index that when adding clusters up to 5 we actually increase the rand index meaning higher quality clusters. But from 5 to 7 clusters we actually lose a little bit of quality. So choosing 5 clusters in this case would be optimal."
   ]
  },
  {
   "cell_type": "markdown",
   "metadata": {},
   "source": [
    "## Topic modelling data set"
   ]
  },
  {
   "cell_type": "markdown",
   "metadata": {},
   "source": [
    "The data set for the topic modelling part of this lab is the collection of all [State of the Union](https://en.wikipedia.org/wiki/State_of_the_Union) addresses from the years 1975–2000. These speeches come as a single text file with one sentence per line. The following code cell prints the first 5 lines from the data file:"
   ]
  },
  {
   "cell_type": "code",
   "execution_count": 2,
   "metadata": {},
   "outputs": [
    {
     "name": "stdout",
     "output_type": "stream",
     "text": [
      "mr speaker mr vice president members of the 94th congress and distinguished guests\n",
      "twenty six years ago a freshman congressman a young fellow with lots of idealism who was out to change the world stood before sam rayburn in the well of the house and solemnly swore to the same oath that all of you took yesterday an unforgettable experience and i congratulate you all\n",
      "two days later that same freshman stood at the back of this great chamber over there someplace as president truman all charged up by his single handed election victory reported as the constitution requires on the state of the union\n",
      "when the bipartisan applause stopped president truman said i am happy to report to this 81st congress that the state of the union is good our nation is better able than ever before to meet the needs of the american people and to give them their fair chance in the pursuit of happiness it is foremost among the nations of the world in the search for peace\n",
      "today that freshman member from michigan stands where mr truman stood and i must say to you that the state of the union is not good\n",
      "millions of americans are out of work\n"
     ]
    }
   ],
   "source": [
    "with open('sotu_1975_2000.txt') as source:\n",
    "    for i, line in enumerate(source):\n",
    "        print(line.rstrip())\n",
    "        if i >= 5:\n",
    "            break"
   ]
  },
  {
   "cell_type": "markdown",
   "metadata": {},
   "source": [
    "Some topics that could come from this are president, work, america, or election. "
   ]
  },
  {
   "cell_type": "markdown",
   "metadata": {},
   "source": [
    "## Problem 4: Train a topic model"
   ]
  },
  {
   "cell_type": "markdown",
   "metadata": {},
   "source": [
    "Your first task on the topic modelling data is to train an LDA model. For this task you will be using [spaCy](https://spacy.io/) and the [gensim](https://radimrehurek.com/gensim/) topic modelling library.\n",
    "\n",
    "Start by preprocessing the data using spaCy. Given that the data set for this problem is rather small, you do not have to exclude any components from the standard pipeline. Filter out stop words, non-alphabetic tokens, and tokens less than 3 characters in length. Store the documents as a nested list where the first level of nesting corresponds to the sentences and the second level corresponds to the tokens in each sentence."
   ]
  },
  {
   "cell_type": "code",
   "execution_count": 1,
   "metadata": {},
   "outputs": [],
   "source": [
    "#!pip3 install https://github.com/explosion/spacy-models/releases/download/en_core_web_sm-2.2.0/en_core_web_sm-2.2.0.tar.gz\n"
   ]
  },
  {
   "cell_type": "code",
   "execution_count": 13,
   "metadata": {},
   "outputs": [],
   "source": [
    "# TODO: Replace the following lines with your own code for preprocessing the documents\n",
    "import spacy\n",
    "nlp = spacy.load(\"en_core_web_sm\")\n",
    "\n",
    "def preprocess(text):\n",
    "    doc = nlp(text)\n",
    "    processed_Sentence = []\n",
    "    for token in doc:\n",
    "        if(not token.is_stop and token.lemma_.isalpha() and len(token) > 2):\n",
    "            processed_Sentence.append(token.lemma_)\n",
    "    return processed_Sentence\n",
    "\n",
    "with open('sotu_1975_2000.txt') as source:\n",
    "    documents = [line.split() for line in source]\n",
    "    procesed_docs = []\n",
    "    for sentence in documents:\n",
    "        procesed_docs.append(preprocess(str(sentence)))"
   ]
  },
  {
   "cell_type": "markdown",
   "metadata": {},
   "source": [
    "Test your preprocessing by running the following cell:"
   ]
  },
  {
   "cell_type": "code",
   "execution_count": 14,
   "metadata": {},
   "outputs": [
    {
     "data": {
      "text/plain": [
       "'reduce oil import million barrel day end year million barrel day end'"
      ]
     },
     "execution_count": 14,
     "metadata": {},
     "output_type": "execute_result"
    }
   ],
   "source": [
    "' '.join(procesed_docs[42])"
   ]
  },
  {
   "cell_type": "markdown",
   "metadata": {},
   "source": [
    "You should get the following output:"
   ]
  },
  {
   "cell_type": "raw",
   "metadata": {},
   "source": [
    "'reduce oil imports million barrels day end year million barrels day end'"
   ]
  },
  {
   "cell_type": "markdown",
   "metadata": {},
   "source": [
    "Once you have the list of documents, skim the section [Pre-process and vectorize the documents](https://radimrehurek.com/gensim/auto_examples/tutorials/run_lda.html#pre-process-and-vectorize-the-documents) of the gensim documentation to learn how to create the dictionary and the vectorized corpus representation required by gensim. (Note that you cannot use the standard scikit-learn pipeline in this case.) Then, write code to train an [LdaModel](https://radimrehurek.com/gensim/models/ldamodel.html) for $k=10$ topics, and using default values for all other parameters."
   ]
  },
  {
   "cell_type": "code",
   "execution_count": 17,
   "metadata": {},
   "outputs": [],
   "source": [
    "#!pip install gensim"
   ]
  },
  {
   "cell_type": "code",
   "execution_count": 15,
   "metadata": {},
   "outputs": [],
   "source": [
    "# TODO: Enter code here to train an LDA model and store it in a variable `model`\n",
    "from gensim.corpora import Dictionary\n",
    "from gensim.models import LdaModel\n",
    "\n",
    "\n",
    "dictionary = Dictionary(procesed_docs)\n",
    "dictionary.filter_extremes(no_below=20, no_above=0.5)\n",
    "\n",
    "# Set training parameters.\n",
    "num_topics = 10\n",
    "\n",
    "# Make a index to word dictionary.\n",
    "temp = dictionary[0]  # This is only to \"load\" the dictionary.\n",
    "id2word = dictionary.id2token\n",
    "# Bag-of-words representation of the documents.\n",
    "corpus = [dictionary.doc2bow(doc) for doc in procesed_docs]\n",
    "\n",
    "model = LdaModel(\n",
    "    corpus=corpus,\n",
    "    id2word=id2word,\n",
    "    num_topics=num_topics\n",
    ")"
   ]
  },
  {
   "cell_type": "markdown",
   "metadata": {},
   "source": [
    "Once you have a trained model, run the following cell to print the topics:"
   ]
  },
  {
   "cell_type": "code",
   "execution_count": 16,
   "metadata": {},
   "outputs": [
    {
     "data": {
      "text/plain": [
       "[(0,\n",
       "  '0.025*\"work\" + 0.023*\"new\" + 0.019*\"help\" + 0.018*\"community\" + 0.015*\"america\" + 0.014*\"government\" + 0.014*\"people\" + 0.012*\"year\" + 0.011*\"welfare\" + 0.010*\"world\"'),\n",
       " (1,\n",
       "  '0.020*\"school\" + 0.017*\"know\" + 0.017*\"america\" + 0.015*\"year\" + 0.014*\"new\" + 0.013*\"people\" + 0.013*\"good\" + 0.011*\"job\" + 0.010*\"work\" + 0.010*\"congress\"'),\n",
       " (2,\n",
       "  '0.033*\"year\" + 0.024*\"america\" + 0.019*\"people\" + 0.018*\"child\" + 0.012*\"challenge\" + 0.012*\"government\" + 0.009*\"parent\" + 0.009*\"teacher\" + 0.009*\"live\" + 0.009*\"world\"'),\n",
       " (3,\n",
       "  '0.025*\"year\" + 0.021*\"let\" + 0.021*\"care\" + 0.014*\"health\" + 0.013*\"people\" + 0.013*\"crime\" + 0.013*\"americans\" + 0.013*\"american\" + 0.012*\"work\" + 0.012*\"ask\"'),\n",
       " (4,\n",
       "  '0.023*\"year\" + 0.019*\"new\" + 0.016*\"world\" + 0.012*\"job\" + 0.011*\"million\" + 0.011*\"college\" + 0.011*\"america\" + 0.010*\"work\" + 0.010*\"american\" + 0.010*\"state\"'),\n",
       " (5,\n",
       "  '0.035*\"year\" + 0.021*\"congress\" + 0.018*\"cut\" + 0.018*\"budget\" + 0.011*\"deficit\" + 0.011*\"social\" + 0.010*\"thing\" + 0.010*\"percent\" + 0.009*\"clean\" + 0.009*\"child\"'),\n",
       " (6,\n",
       "  '0.021*\"year\" + 0.018*\"work\" + 0.016*\"tax\" + 0.016*\"million\" + 0.014*\"americans\" + 0.012*\"family\" + 0.011*\"credit\" + 0.011*\"security\" + 0.011*\"people\" + 0.010*\"budget\"'),\n",
       " (7,\n",
       "  '0.031*\"work\" + 0.019*\"peace\" + 0.018*\"people\" + 0.016*\"nation\" + 0.014*\"security\" + 0.013*\"america\" + 0.013*\"challenge\" + 0.013*\"world\" + 0.011*\"let\" + 0.011*\"american\"'),\n",
       " (8,\n",
       "  '0.016*\"year\" + 0.016*\"child\" + 0.015*\"america\" + 0.014*\"people\" + 0.014*\"drug\" + 0.014*\"work\" + 0.013*\"time\" + 0.011*\"state\" + 0.010*\"world\" + 0.008*\"nation\"'),\n",
       " (9,\n",
       "  '0.035*\"child\" + 0.027*\"family\" + 0.026*\"new\" + 0.024*\"congress\" + 0.014*\"support\" + 0.014*\"america\" + 0.013*\"work\" + 0.010*\"strong\" + 0.009*\"million\" + 0.009*\"pass\"')]"
      ]
     },
     "execution_count": 16,
     "metadata": {},
     "output_type": "execute_result"
    }
   ],
   "source": [
    "model.print_topics()"
   ]
  },
  {
   "cell_type": "markdown",
   "metadata": {},
   "source": [
    "Inspect the topics. Can you &lsquo;label&rsquo; each topic with a short description of what it is about? Do the topics match your expectations? Summarize your discussion in a short text."
   ]
  },
  {
   "cell_type": "markdown",
   "metadata": {},
   "source": [
    "These labels are about what was expected. Most of these topics are fairly self explanatory. \n",
    "1: Topic is about work and welfare, how american government can help its people.\n",
    "2: Topic is about school and jobs, how people and congress can aid in these areas.\n",
    "3: Talks about challenges with parents and children in america, relates to teachers.\n",
    "4: About american health care, work, and crime.\n",
    "5: Something about millions of jobs or americans, related to work and college.\n",
    "6: Related to money, budget and the security of americans and their family.\n",
    "7: About peace and the nation and security and world impact of the nation.\n",
    "8: Is about the nation and children, also about drugs in the nation?\n",
    "9: Talks about congress and support for america, and families that work and have children.\n",
    "\n",
    "Overall these are fairly expected from a state of the union speech!"
   ]
  },
  {
   "cell_type": "markdown",
   "metadata": {},
   "source": [
    "## Problem 5: Monitor a topic model for convergence"
   ]
  },
  {
   "cell_type": "markdown",
   "metadata": {},
   "source": [
    "When learning an LDA model, it is important to make sure that the training algorithm has converged to a stable posterior distribution. One way to do so is to plot, after each training epochs (or &lsquo;pass&rsquo;, in gensim parlance) the log likelihood of the training data under the posterior. Your last task in this lab is to create such a plot and, based on this, to suggest an appropriate number of epochs.\n",
    "\n",
    "To collect information about the posterior likelihood after each pass, we need to enable the logging facilities of gensim. Once this is done, gensim will add various diagnostics to a log file `gensim.log`."
   ]
  },
  {
   "cell_type": "code",
   "execution_count": 31,
   "metadata": {},
   "outputs": [],
   "source": [
    "import logging\n",
    "\n",
    "logging.basicConfig(filename='gensim.log', format='%(asctime)s:%(levelname)s:%(message)s', level=logging.INFO)"
   ]
  },
  {
   "cell_type": "markdown",
   "metadata": {},
   "source": [
    "The following function will parse the generated logfile and return the list of log likelihoods."
   ]
  },
  {
   "cell_type": "code",
   "execution_count": 32,
   "metadata": {},
   "outputs": [],
   "source": [
    "import re\n",
    "\n",
    "def parse_logfile():\n",
    "    matcher = re.compile('(-*\\d+\\.\\d+) per-word .* (\\d+\\.\\d+) perplexity')\n",
    "    likelihoods = []\n",
    "    with open('gensim.log') as source:\n",
    "        for line in source:\n",
    "            match = matcher.search(line)\n",
    "            if match:\n",
    "                likelihoods.append(float(match.group(1)))\n",
    "    return likelihoods"
   ]
  },
  {
   "cell_type": "markdown",
   "metadata": {},
   "source": [
    "Your task now is to re-train your LDA model for 50&nbsp;passes, retrieve the list of log likelihoods, and create a plot from this data."
   ]
  },
  {
   "cell_type": "code",
   "execution_count": 33,
   "metadata": {},
   "outputs": [],
   "source": [
    "# TODO: Enter code here to generate the convergence plot\n",
    "model = LdaModel(\n",
    "    corpus=corpus,\n",
    "    id2word=id2word,\n",
    "    num_topics=num_topics,\n",
    "    passes=50,\n",
    ")"
   ]
  },
  {
   "cell_type": "code",
   "execution_count": 37,
   "metadata": {},
   "outputs": [
    {
     "data": {
      "text/plain": [
       "[<matplotlib.lines.Line2D at 0x7f88854a1190>]"
      ]
     },
     "execution_count": 37,
     "metadata": {},
     "output_type": "execute_result"
    },
    {
     "data": {
      "image/png": "[encoded data removed]",
      "text/plain": [
       "<Figure size 432x288 with 1 Axes>"
      ]
     },
     "metadata": {
      "needs_background": "light"
     },
     "output_type": "display_data"
    }
   ],
   "source": [
    "from matplotlib import pyplot as plt\n",
    "\n",
    "logs = parse_logfile()\n",
    "plt.xlim(0.00001,50)\n",
    "plt.plot(logs)"
   ]
  },
  {
   "cell_type": "code",
   "execution_count": 36,
   "metadata": {},
   "outputs": [],
   "source": [
    "model = LdaModel(\n",
    "    corpus=corpus,\n",
    "    id2word=id2word,\n",
    "    num_topics=num_topics,\n",
    "    passes=25,\n",
    ")"
   ]
  },
  {
   "cell_type": "code",
   "execution_count": 38,
   "metadata": {},
   "outputs": [
    {
     "data": {
      "text/plain": [
       "[(0,\n",
       "  '0.040*\"nuclear\" + 0.032*\"soviet\" + 0.025*\"weapon\" + 0.023*\"interest\" + 0.023*\"agreement\" + 0.020*\"nation\" + 0.020*\"continue\" + 0.019*\"force\" + 0.019*\"ally\" + 0.018*\"europe\"'),\n",
       " (1,\n",
       "  '0.073*\"child\" + 0.050*\"school\" + 0.027*\"parent\" + 0.026*\"family\" + 0.023*\"education\" + 0.022*\"help\" + 0.021*\"year\" + 0.021*\"college\" + 0.016*\"teacher\" + 0.016*\"support\"'),\n",
       " (2,\n",
       "  '0.051*\"year\" + 0.040*\"budget\" + 0.037*\"security\" + 0.029*\"social\" + 0.024*\"spend\" + 0.021*\"billion\" + 0.017*\"increase\" + 0.015*\"defense\" + 0.014*\"percent\" + 0.013*\"program\"'),\n",
       " (3,\n",
       "  '0.042*\"tax\" + 0.028*\"year\" + 0.024*\"job\" + 0.024*\"rate\" + 0.022*\"health\" + 0.022*\"cut\" + 0.021*\"new\" + 0.019*\"low\" + 0.018*\"care\" + 0.017*\"million\"'),\n",
       " (4,\n",
       "  '0.044*\"government\" + 0.043*\"federal\" + 0.034*\"program\" + 0.030*\"state\" + 0.020*\"administration\" + 0.019*\"congress\" + 0.013*\"year\" + 0.012*\"problem\" + 0.011*\"continue\" + 0.011*\"local\"'),\n",
       " (5,\n",
       "  '0.037*\"people\" + 0.030*\"americans\" + 0.022*\"america\" + 0.020*\"know\" + 0.020*\"good\" + 0.019*\"work\" + 0.018*\"american\" + 0.018*\"new\" + 0.016*\"government\" + 0.015*\"country\"'),\n",
       " (6,\n",
       "  '0.038*\"work\" + 0.030*\"welfare\" + 0.025*\"congress\" + 0.023*\"right\" + 0.023*\"child\" + 0.022*\"reform\" + 0.021*\"pass\" + 0.017*\"care\" + 0.017*\"health\" + 0.016*\"act\"'),\n",
       " (7,\n",
       "  '0.050*\"world\" + 0.040*\"america\" + 0.025*\"nation\" + 0.021*\"state\" + 0.019*\"peace\" + 0.018*\"people\" + 0.018*\"freedom\" + 0.016*\"strong\" + 0.016*\"union\" + 0.015*\"american\"'),\n",
       " (8,\n",
       "  '0.033*\"congress\" + 0.031*\"crime\" + 0.031*\"let\" + 0.028*\"work\" + 0.026*\"president\" + 0.018*\"house\" + 0.018*\"year\" + 0.018*\"people\" + 0.016*\"member\" + 0.015*\"thing\"'),\n",
       " (9,\n",
       "  '0.027*\"new\" + 0.024*\"policy\" + 0.023*\"energy\" + 0.018*\"nation\" + 0.018*\"community\" + 0.018*\"develop\" + 0.017*\"economic\" + 0.017*\"development\" + 0.016*\"foreign\" + 0.016*\"trade\"')]"
      ]
     },
     "execution_count": 38,
     "metadata": {},
     "output_type": "execute_result"
    }
   ],
   "source": [
    "model.print_topics()"
   ]
  },
  {
   "cell_type": "markdown",
   "metadata": {},
   "source": [
    "How do you interpret your plot? Based on the plot, what would be a reasonable choice for the number of passes? Retrain your LDA model with that number and re-inspect the topics it finds. Do you consider the new topics to be &lsquo;better&rsquo; than the ones that you got from the 1-pass model in Problem&nbsp;5?"
   ]
  },
  {
   "cell_type": "markdown",
   "metadata": {},
   "source": [
    "The plot shows how it begins to plateu, this means there is no reason to have more passes than about 25 as it does not increase the performance by much.\n",
    "\n",
    "With training with 25 passes overall they seem very similar. Interesting this time there was one that included nuclear weapons and soviet."
   ]
  },
  {
   "cell_type": "markdown",
   "metadata": {},
   "source": [
    "<div class=\"alert alert-info\">\n",
    "    Please read the section ‘General information’ on the ‘Labs’ page of the course website before submitting this notebook!\n",
    "</div>"
   ]
  }
 ],
 "metadata": {
  "kernelspec": {
   "display_name": "Python 3",
   "language": "python",
   "name": "python3"
  },
  "language_info": {
   "codemirror_mode": {
    "name": "ipython",
    "version": 3
   },
   "file_extension": ".py",
   "mimetype": "text/x-python",
   "name": "python",
   "nbconvert_exporter": "python",
   "pygments_lexer": "ipython3",
   "version": "3.7.6"
  }
 },
 "nbformat": 4,
 "nbformat_minor": 2
}
