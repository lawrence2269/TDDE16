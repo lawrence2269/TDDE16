{
 "cells": [
  {
   "cell_type": "markdown",
   "metadata": {},
   "source": [
    "# L2: Text classification"
   ]
  },
  {
   "cell_type": "markdown",
   "metadata": {},
   "source": [
    "Text classification is the task of sorting text documents into predefined classes. The concrete problem you will be working on in this lab is the classification of texts with respect to their political affiliation. The specific texts you are going to classify are speeches held in the [Riksdag](https://www.riksdagen.se/en/), the Swedish national legislature."
   ]
  },
  {
   "cell_type": "markdown",
   "metadata": {},
   "source": [
    "## Data set"
   ]
  },
  {
   "cell_type": "markdown",
   "metadata": {},
   "source": [
    "The raw data for this lab comes from [The Riksdag’s Open Data](https://data.riksdagen.se/in-english/). We have tokenized the speeches and put them into two compressed [JSON](https://en.wikipedia.org/wiki/JSON) files:\n",
    "\n",
    "* `speeches-201718.json.bz2` (speeches from the 2017/2018 parliamentary session)\n",
    "* `speeches-201819.json.bz2` (ditto, from the 2018/2019 session)\n",
    "\n",
    "We start by loading these files into two separate data frames."
   ]
  },
  {
   "cell_type": "code",
   "execution_count": 1,
   "metadata": {},
   "outputs": [],
   "source": [
    "import pandas as pd\n",
    "import bz2\n",
    "\n",
    "with bz2.open('speeches-201718.json.bz2') as source:\n",
    "    speeches_201718 = pd.read_json(source)\n",
    "\n",
    "with bz2.open('speeches-201819.json.bz2') as source:\n",
    "    speeches_201819 = pd.read_json(source)"
   ]
  },
  {
   "cell_type": "markdown",
   "metadata": {},
   "source": [
    "When you inspect the two data frames, you can see that there are three labelled columns: `id` (the official speech ID), `words` (the space-separated words of the speech), and `party` (the party of the speaker, represented by its customary abbreviation)."
   ]
  },
  {
   "cell_type": "code",
   "execution_count": 2,
   "metadata": {},
   "outputs": [
    {
     "data": {
      "text/html": [
       "<div>\n",
       "<style scoped>\n",
       "    .dataframe tbody tr th:only-of-type {\n",
       "        vertical-align: middle;\n",
       "    }\n",
       "\n",
       "    .dataframe tbody tr th {\n",
       "        vertical-align: top;\n",
       "    }\n",
       "\n",
       "    .dataframe thead th {\n",
       "        text-align: right;\n",
       "    }\n",
       "</style>\n",
       "<table border=\"1\" class=\"dataframe\">\n",
       "  <thead>\n",
       "    <tr style=\"text-align: right;\">\n",
       "      <th></th>\n",
       "      <th>id</th>\n",
       "      <th>words</th>\n",
       "      <th>party</th>\n",
       "    </tr>\n",
       "  </thead>\n",
       "  <tbody>\n",
       "    <tr>\n",
       "      <th>0</th>\n",
       "      <td>H5-002-004</td>\n",
       "      <td>eders majestäter eders kungliga högheter herr ...</td>\n",
       "      <td>S</td>\n",
       "    </tr>\n",
       "    <tr>\n",
       "      <th>1</th>\n",
       "      <td>H5-003-001</td>\n",
       "      <td>aktuell debatt om situationen för ensamkommand...</td>\n",
       "      <td>V</td>\n",
       "    </tr>\n",
       "    <tr>\n",
       "      <th>2</th>\n",
       "      <td>H5-003-002</td>\n",
       "      <td>herr talman och ledamöter jag vill börja med a...</td>\n",
       "      <td>S</td>\n",
       "    </tr>\n",
       "    <tr>\n",
       "      <th>3</th>\n",
       "      <td>H5-003-003</td>\n",
       "      <td>herr talman åhörare den här debatten handlar a...</td>\n",
       "      <td>M</td>\n",
       "    </tr>\n",
       "    <tr>\n",
       "      <th>4</th>\n",
       "      <td>H5-003-004</td>\n",
       "      <td>herr talman ansvar och rättssäkerhet är två or...</td>\n",
       "      <td>SD</td>\n",
       "    </tr>\n",
       "  </tbody>\n",
       "</table>\n",
       "</div>"
      ],
      "text/plain": [
       "           id                                              words party\n",
       "0  H5-002-004  eders majestäter eders kungliga högheter herr ...     S\n",
       "1  H5-003-001  aktuell debatt om situationen för ensamkommand...     V\n",
       "2  H5-003-002  herr talman och ledamöter jag vill börja med a...     S\n",
       "3  H5-003-003  herr talman åhörare den här debatten handlar a...     M\n",
       "4  H5-003-004  herr talman ansvar och rättssäkerhet är två or...    SD"
      ]
     },
     "execution_count": 2,
     "metadata": {},
     "output_type": "execute_result"
    }
   ],
   "source": [
    "speeches_201718.head()"
   ]
  },
  {
   "cell_type": "markdown",
   "metadata": {},
   "source": [
    "Throughout the lab, we will be using the speeches from 2017/2018 as our training data, and the speeches from 2018/2019 as our test data."
   ]
  },
  {
   "cell_type": "code",
   "execution_count": 3,
   "metadata": {},
   "outputs": [],
   "source": [
    "training_data, test_data = speeches_201718, speeches_201819"
   ]
  },
  {
   "cell_type": "code",
   "execution_count": 4,
   "metadata": {},
   "outputs": [
    {
     "data": {
      "text/html": [
       "<div>\n",
       "<style scoped>\n",
       "    .dataframe tbody tr th:only-of-type {\n",
       "        vertical-align: middle;\n",
       "    }\n",
       "\n",
       "    .dataframe tbody tr th {\n",
       "        vertical-align: top;\n",
       "    }\n",
       "\n",
       "    .dataframe thead th {\n",
       "        text-align: right;\n",
       "    }\n",
       "</style>\n",
       "<table border=\"1\" class=\"dataframe\">\n",
       "  <thead>\n",
       "    <tr style=\"text-align: right;\">\n",
       "      <th></th>\n",
       "      <th>id</th>\n",
       "      <th>words</th>\n",
       "      <th>party</th>\n",
       "    </tr>\n",
       "  </thead>\n",
       "  <tbody>\n",
       "    <tr>\n",
       "      <th>0</th>\n",
       "      <td>H6-001-001</td>\n",
       "      <td>hälsningsanförande från ålderspresidenten ärad...</td>\n",
       "      <td>M</td>\n",
       "    </tr>\n",
       "    <tr>\n",
       "      <th>1</th>\n",
       "      <td>H6-001-002</td>\n",
       "      <td>fru ålderspresident ärade ledamöter av sverige...</td>\n",
       "      <td>S</td>\n",
       "    </tr>\n",
       "    <tr>\n",
       "      <th>2</th>\n",
       "      <td>H6-001-003</td>\n",
       "      <td>fru ålderspresident ärade ledamöter av sverige...</td>\n",
       "      <td>M</td>\n",
       "    </tr>\n",
       "    <tr>\n",
       "      <th>3</th>\n",
       "      <td>H6-001-004</td>\n",
       "      <td>val av förste vice talman val av andre vice ta...</td>\n",
       "      <td>S</td>\n",
       "    </tr>\n",
       "    <tr>\n",
       "      <th>4</th>\n",
       "      <td>H6-001-005</td>\n",
       "      <td>ärade fru ålderspresident och likaledes ärade ...</td>\n",
       "      <td>SD</td>\n",
       "    </tr>\n",
       "  </tbody>\n",
       "</table>\n",
       "</div>"
      ],
      "text/plain": [
       "           id                                              words party\n",
       "0  H6-001-001  hälsningsanförande från ålderspresidenten ärad...     M\n",
       "1  H6-001-002  fru ålderspresident ärade ledamöter av sverige...     S\n",
       "2  H6-001-003  fru ålderspresident ärade ledamöter av sverige...     M\n",
       "3  H6-001-004  val av förste vice talman val av andre vice ta...     S\n",
       "4  H6-001-005  ärade fru ålderspresident och likaledes ärade ...    SD"
      ]
     },
     "execution_count": 4,
     "metadata": {},
     "output_type": "execute_result"
    }
   ],
   "source": [
    "test_data.head()"
   ]
  },
  {
   "cell_type": "markdown",
   "metadata": {},
   "source": [
    "For later reference, we store the sorted list of party abbreviations."
   ]
  },
  {
   "cell_type": "code",
   "execution_count": 5,
   "metadata": {},
   "outputs": [
    {
     "name": "stdout",
     "output_type": "stream",
     "text": [
      "['C', 'KD', 'L', 'M', 'MP', 'S', 'SD', 'V']\n"
     ]
    }
   ],
   "source": [
    "parties = sorted(training_data['party'].unique())\n",
    "print(parties)"
   ]
  },
  {
   "cell_type": "markdown",
   "metadata": {},
   "source": [
    "## Problem 1: Visualization"
   ]
  },
  {
   "cell_type": "markdown",
   "metadata": {},
   "source": [
    "Your first task is to get to know the data better by producing a simple visualization.\n",
    "\n",
    "If you are not familiar with the Swedish political system and the parties represented in the Riksdag in particular, then we suggest that you have a look at the Wikipedia article about the [2018 Swedish general election](https://en.wikipedia.org/wiki/2018_Swedish_general_election).\n",
    "\n",
    "For the lab, we ask you to compare the two data frames with respect to the distribution of the speeches over the different parties. Write code to generate two bar plots that visualize this information, one for the 2017/2018 speeches and one for the 2018/2019 speeches. Inspect the two plots, and compare them\n",
    "\n",
    "* to each other\n",
    "* to the results of the 2014 and the 2018 general elections\n",
    "\n",
    "Summarize your observations in a short text in the cell below.\n",
    "\n",
    "**Tip:** If you need help with creating bar plots, [Bar Plot using Pandas](https://dfrieds.com/data-visualizations/bar-plot-python-pandas) provides a useful tutorial."
   ]
  },
  {
   "cell_type": "code",
   "execution_count": 6,
   "metadata": {},
   "outputs": [],
   "source": [
    "import matplotlib.pyplot as plt\n",
    "import seaborn as sns\n",
    "import numpy as np\n",
    "%matplotlib inline"
   ]
  },
  {
   "cell_type": "code",
   "execution_count": 7,
   "metadata": {},
   "outputs": [
    {
     "data": {
      "image/png": "[encoded data removed]",
      "text/plain": [
       "<Figure size 1152x432 with 2 Axes>"
      ]
     },
     "metadata": {
      "needs_background": "light"
     },
     "output_type": "display_data"
    }
   ],
   "source": [
    "plt.figure(figsize=(16,6))\n",
    "plt.subplot(1,2,1)\n",
    "training_data['party'].value_counts().plot(kind='bar',color=['green', 'red', 'yellow', 'blue', 'cyan','orange','pink','black'])\n",
    "plt.xlabel(\"Parties\")\n",
    "plt.ylabel(\"Count\")\n",
    "plt.title(\"2017/2018 speeches\")\n",
    "plt.subplot(1,2,2)\n",
    "test_data['party'].value_counts().plot(kind='bar',color=['green', 'red', 'blue', 'cyan', 'pink','yellow','orange','black'])\n",
    "plt.xlabel(\"Parties\")\n",
    "plt.ylabel(\"Count\")\n",
    "plt.title(\"2018/2019 speeches\")\n",
    "y2 = test_data['party'].value_counts()"
   ]
  },
  {
   "cell_type": "markdown",
   "metadata": {},
   "source": [
    "From the above two visualizations, we can observe that number of speeches made by each parties in 2017/2018 have twice the amount of data. Also, the main thing to observe here is that the classes are <b>imbalanced.</b>"
   ]
  },
  {
   "cell_type": "markdown",
   "metadata": {},
   "source": [
    "## Problem 2: Naive Bayes classifier"
   ]
  },
  {
   "cell_type": "markdown",
   "metadata": {},
   "source": [
    "You are now ready to train and evaluate a classifier. More specifically, we ask you to train a [Multinomial Naive Bayes](https://scikit-learn.org/stable/modules/naive_bayes.html#multinomial-naive-bayes) classifier. You will have to\n",
    "\n",
    "1. vectorize the speeches in the training data\n",
    "2. instantiate and fit the Naive Bayes model\n",
    "3. evaluate the model on the test data\n",
    "\n",
    "The scikit-learn library provides a convenience class [Pipeline](https://scikit-learn.org/stable/modules/generated/sklearn.pipeline.Pipeline.html) that allows you to solve the first two tasks with very compact code. For the evaluation you can use the function [`classification_report`](https://scikit-learn.org/stable/modules/generated/sklearn.metrics.classification_report.html), which will report per-class precision, recall and F1, as well as overall accuracy."
   ]
  },
  {
   "cell_type": "code",
   "execution_count": 8,
   "metadata": {},
   "outputs": [
    {
     "name": "stdout",
     "output_type": "stream",
     "text": [
      "################# Training ###################\n"
     ]
    },
    {
     "name": "stderr",
     "output_type": "stream",
     "text": [
      "/Users/lawrence/opt/anaconda3/lib/python3.7/site-packages/sklearn/metrics/_classification.py:1221: UndefinedMetricWarning: Precision and F-score are ill-defined and being set to 0.0 in labels with no predicted samples. Use `zero_division` parameter to control this behavior.\n",
      "  _warn_prf(average, modifier, msg_start, len(result))\n"
     ]
    },
    {
     "name": "stdout",
     "output_type": "stream",
     "text": [
      "              precision    recall  f1-score   support\n",
      "\n",
      "           C       0.00      0.00      0.00       865\n",
      "          KD       0.00      0.00      0.00       743\n",
      "           L       0.00      0.00      0.00       719\n",
      "           M       0.97      0.01      0.03      2370\n",
      "          MP       0.00      0.00      0.00      1481\n",
      "           S       0.35      1.00      0.51      4261\n",
      "          SD       0.00      0.00      0.00      1010\n",
      "           V       0.00      0.00      0.00       894\n",
      "\n",
      "    accuracy                           0.35     12343\n",
      "   macro avg       0.16      0.13      0.07     12343\n",
      "weighted avg       0.31      0.35      0.18     12343\n",
      "\n",
      "################# Testing ###################\n",
      "              precision    recall  f1-score   support\n",
      "\n",
      "           C       0.00      0.00      0.00       671\n",
      "          KD       0.00      0.00      0.00       821\n",
      "           L       0.00      0.00      0.00       560\n",
      "           M       0.50      0.00      0.00      1644\n",
      "          MP       0.00      0.00      0.00       809\n",
      "           S       0.30      1.00      0.46      2773\n",
      "          SD       0.00      0.00      0.00      1060\n",
      "           V       0.00      0.00      0.00       950\n",
      "\n",
      "    accuracy                           0.30      9288\n",
      "   macro avg       0.10      0.13      0.06      9288\n",
      "weighted avg       0.18      0.30      0.14      9288\n",
      "\n"
     ]
    },
    {
     "name": "stderr",
     "output_type": "stream",
     "text": [
      "/Users/lawrence/opt/anaconda3/lib/python3.7/site-packages/sklearn/metrics/_classification.py:1221: UndefinedMetricWarning: Precision and F-score are ill-defined and being set to 0.0 in labels with no predicted samples. Use `zero_division` parameter to control this behavior.\n",
      "  _warn_prf(average, modifier, msg_start, len(result))\n"
     ]
    }
   ],
   "source": [
    "# TODO: Write code here to train and evaluate a Multinomial Naive Bayes classifier\n",
    "from sklearn.feature_extraction.text import CountVectorizer\n",
    "from sklearn.feature_extraction.text import TfidfTransformer\n",
    "from sklearn.naive_bayes import MultinomialNB\n",
    "from sklearn.pipeline import Pipeline\n",
    "from sklearn.metrics import classification_report\n",
    "\n",
    "x_train = training_data['words']\n",
    "y_train = training_data['party']\n",
    "x_test = test_data['words']\n",
    "y_test = test_data['party']\n",
    "\n",
    "pipe = Pipeline([('count_vect',CountVectorizer()),\n",
    "                ('tfidf_transformer',TfidfTransformer()),\n",
    "                ('nbClassifier',MultinomialNB())])\n",
    "\n",
    "pipe.fit(x_train,y_train)\n",
    "\n",
    "print(\"################# Training ###################\")\n",
    "prediction_train = pipe.predict(x_train)\n",
    "print(classification_report(y_train, prediction_train, target_names=parties))\n",
    "\n",
    "print(\"################# Testing ###################\")\n",
    "prediction_test = pipe.predict(x_test)\n",
    "print(classification_report(y_test, prediction_test, target_names=parties))"
   ]
  },
  {
   "cell_type": "markdown",
   "metadata": {},
   "source": [
    "Would you have expected the results that you got?"
   ]
  },
  {
   "cell_type": "markdown",
   "metadata": {},
   "source": [
    "35% accuracy on train, 30% accuracy on test. This is the expected result because the data is imbalanced. Running a classifier on an imbalanced dataset leads to have less accuracy. In order to increase the accuracy or performance of the classifier we need to apply sampling techniques."
   ]
  },
  {
   "cell_type": "markdown",
   "metadata": {},
   "source": [
    "## Problem 3: Baselines"
   ]
  },
  {
   "cell_type": "markdown",
   "metadata": {},
   "source": [
    "Evaluation metrics such as accuracy should not be understood as absolute measures of performance, but should be used only to compare different classifiers. When other classifiers are not available, a simple baseline is a classifier that generates predictions by random sampling, respecting the training set&rsquo;s class distribution. This baseline is implemented by the class [DummyClassifier](https://scikit-learn.org/stable/modules/generated/sklearn.dummy.DummyClassifier.html). What is the performance of the random baseline on the test data?"
   ]
  },
  {
   "cell_type": "code",
   "execution_count": 9,
   "metadata": {},
   "outputs": [
    {
     "name": "stdout",
     "output_type": "stream",
     "text": [
      "We got an accuracy of train data using dummy classifier:  19.85\n",
      "We got an accuracy of test data using dummy classifier:  17.65\n"
     ]
    }
   ],
   "source": [
    "# TODO: Write code here to evaluate the random baseline\n",
    "from sklearn.dummy import DummyClassifier\n",
    "dummy_clf = DummyClassifier(strategy=\"stratified\")\n",
    "dummy_clf.fit(x_train, y_train)\n",
    "\n",
    "predicted_train_dummy = dummy_clf.predict(x_train)\n",
    "print('We got an accuracy of train data using dummy classifier: ',round(np.mean(predicted_train_dummy == y_train)*100,2))\n",
    "\n",
    "predicted_test_dummy = dummy_clf.predict(x_test)\n",
    "print('We got an accuracy of test data using dummy classifier: ',round(np.mean(predicted_test_dummy == y_test)*100,2))"
   ]
  },
  {
   "cell_type": "markdown",
   "metadata": {},
   "source": [
    "The random baseline classifier has poor performance on test data and train data when compared with Naive Bayes (Multinomial) classifier. Hence We got an accuracy of test data using dummy classifier:  17.62%"
   ]
  },
  {
   "cell_type": "markdown",
   "metadata": {},
   "source": [
    "An even dumber baseline is to predict, for every document, that class which appears most often in the training data. This baseline is also called the most frequent class baseline. What is the accuracy of that baseline on the test data?"
   ]
  },
  {
   "cell_type": "code",
   "execution_count": 10,
   "metadata": {},
   "outputs": [
    {
     "name": "stdout",
     "output_type": "stream",
     "text": [
      "We got an accuracy of train data using dummy classifier:  34.52\n",
      "We got an accuracy of test data using dummy classifier:  29.86\n"
     ]
    }
   ],
   "source": [
    "# TODO: Write code here to print the accuracy of the most frequent class baseline\n",
    "from sklearn.dummy import DummyClassifier\n",
    "dummy_clf_2 = DummyClassifier(strategy=\"most_frequent\")\n",
    "dummy_clf_2.fit(x_train, y_train)\n",
    "\n",
    "predicted_train_dummy_2 = dummy_clf_2.predict(x_train)\n",
    "print('We got an accuracy of train data using dummy classifier: ',round(np.mean(predicted_train_dummy_2 == y_train)*100,2))\n",
    "\n",
    "predicted_test_dummy_2 = dummy_clf_2.predict(x_test)\n",
    "print('We got an accuracy of test data using dummy classifier: ',round(np.mean(predicted_test_dummy_2 == y_test)*100,2))"
   ]
  },
  {
   "cell_type": "markdown",
   "metadata": {},
   "source": [
    "We got an accuracy of test data using dummy classifier:  29.86%"
   ]
  },
  {
   "cell_type": "markdown",
   "metadata": {},
   "source": [
    "## Problem 4: Creating a balanced data set"
   ]
  },
  {
   "cell_type": "markdown",
   "metadata": {},
   "source": [
    "As you saw in Problem&nbsp;1, the distribution of the speeches over the eight different parties (classes) is imbalanced. One technique used to alleviate this is **undersampling**, in which one randomly removes samples from over-represented classes until all classes are represented with the same number of samples.\n",
    "\n",
    "Implement undersampling to create a balanced subset of the training data. Rerun the evaluation from Problem&nbsp;2 on the balanced data and compare the results. Discuss your findings in a short text. Would you argue that undersampling make sense for the task of predicting the party of a speaker?\n",
    "\n",
    "**Hint:** Your balanced subset should consist of 5,752 speeches."
   ]
  },
  {
   "cell_type": "code",
   "execution_count": 11,
   "metadata": {},
   "outputs": [
    {
     "name": "stdout",
     "output_type": "stream",
     "text": [
      "################# Training ###################\n",
      "              precision    recall  f1-score   support\n",
      "\n",
      "           C       0.94      0.95      0.95       719\n",
      "          KD       0.86      0.98      0.91       719\n",
      "           L       0.96      0.95      0.96       719\n",
      "           M       0.86      0.95      0.90       719\n",
      "          MP       0.96      0.83      0.89       719\n",
      "           S       0.98      0.88      0.93       719\n",
      "          SD       0.97      0.90      0.93       719\n",
      "           V       0.88      0.93      0.90       719\n",
      "\n",
      "    accuracy                           0.92      5752\n",
      "   macro avg       0.93      0.92      0.92      5752\n",
      "weighted avg       0.93      0.92      0.92      5752\n",
      "\n",
      "################# Testing ###################\n",
      "              precision    recall  f1-score   support\n",
      "\n",
      "           C       0.27      0.44      0.33       671\n",
      "          KD       0.23      0.45      0.30       821\n",
      "           L       0.30      0.41      0.34       560\n",
      "           M       0.39      0.46      0.42      1644\n",
      "          MP       0.37      0.29      0.33       809\n",
      "           S       0.80      0.33      0.47      2773\n",
      "          SD       0.44      0.33      0.38      1060\n",
      "           V       0.39      0.52      0.44       950\n",
      "\n",
      "    accuracy                           0.39      9288\n",
      "   macro avg       0.40      0.40      0.38      9288\n",
      "weighted avg       0.49      0.39      0.40      9288\n",
      "\n"
     ]
    }
   ],
   "source": [
    "# TODO: Write code here to implement undersampling\n",
    "from sklearn.utils import resample\n",
    "\n",
    "min_amount = min(training_data['party'].value_counts())\n",
    "\n",
    "df_list = []\n",
    "for i in parties:\n",
    "    df_list.append(training_data[training_data.party == i])\n",
    "\n",
    "#Source: https://elitedatascience.com/imbalanced-classes\n",
    "def undersample(x, n = min_amount):\n",
    "    new = resample(x, replace = False, n_samples = n)\n",
    "    return new\n",
    "\n",
    "balanced_data = []\n",
    "for i in df_list:\n",
    "    balanced_data.append(undersample(i))\n",
    "    \n",
    "balanced_data = pd.concat(balanced_data)\n",
    "balanced_data['party'].value_counts()\n",
    "\n",
    "x_train_balanced = balanced_data['words']\n",
    "y_train_balanced = balanced_data['party']\n",
    "\n",
    "pipe.fit(x_train_balanced, y_train_balanced)\n",
    "\n",
    "print(\"################# Training ###################\")\n",
    "prediction_train = pipe.predict(x_train_balanced)\n",
    "print(classification_report(y_train_balanced, prediction_train, target_names=parties))\n",
    "\n",
    "print(\"################# Testing ###################\")\n",
    "prediction_test = pipe.predict(x_test)\n",
    "print(classification_report(y_test, prediction_test, target_names=parties))"
   ]
  },
  {
   "cell_type": "markdown",
   "metadata": {},
   "source": [
    "From the accuracies, we could say that it is overfitting. By performing undersampling and having the target labels evenly distributed, it generalizes well on training data yielding 91% accuracy, but the classifier does not generalizes well on test data yielding only 37%. Also, limitation of undersampling is that, it deletes useful information from the data."
   ]
  },
  {
   "cell_type": "markdown",
   "metadata": {},
   "source": [
    "## Problem 5: Confusion matrix"
   ]
  },
  {
   "cell_type": "markdown",
   "metadata": {},
   "source": [
    "A **confusion matrix** is a specific table that is useful when analysing the performance of a classifier. In this table, both the rows and the columns correspond to classes, and each cell $(i, j)$ states how many times a sample with gold-standard class $i$ was predicted as belonging to class $j$.\n",
    "\n",
    "In scitkit-learn, the confusion matrix of a classifier is computed by the function [`confusion_matrix`](https://scikit-learn.org/stable/modules/generated/sklearn.metrics.confusion_matrix.html). If you would rather see a visual representation, you can also use [`plot_confusion_matrix`](https://scikit-learn.org/stable/modules/generated/sklearn.metrics.plot_confusion_matrix.html).\n",
    "\n",
    "Your task is to use the confusion matrix in order to find, for each given party $p$ in the Riksdag, that other party $p'$ which the classifier that you trained in Problem&nbsp;4 most often confuses with $p$ when it predicts the party of a speaker."
   ]
  },
  {
   "cell_type": "code",
   "execution_count": 12,
   "metadata": {},
   "outputs": [
    {
     "data": {
      "image/png": "[encoded data removed]",
      "text/plain": [
       "<Figure size 720x720 with 2 Axes>"
      ]
     },
     "metadata": {
      "needs_background": "light"
     },
     "output_type": "display_data"
    },
    {
     "name": "stdout",
     "output_type": "stream",
     "text": [
      "[[293 100  39 115  25  12  35  52]\n",
      " [ 93 373  42 167  20  26  43  57]\n",
      " [ 66  65 227  70  18  18  36  60]\n",
      " [184 317 111 762  46  40  90  94]\n",
      " [ 80 115  42  86 238 105  43 100]\n",
      " [203 357 146 452 232 920 142 321]\n",
      " [110 173  96 192  29  18 346  96]\n",
      " [ 60 132  54 121  27  17  49 490]]\n"
     ]
    }
   ],
   "source": [
    "# TODO: Write code here to solve Problem 5\n",
    "from sklearn.metrics import plot_confusion_matrix\n",
    "from sklearn.metrics import confusion_matrix\n",
    "fig, ax = plt.subplots(figsize=(10, 10))\n",
    "plot_confusion_matrix(pipe, x_test, y_test,ax=ax,values_format='d')\n",
    "plt.show()\n",
    "\n",
    "cm = confusion_matrix(y_test,prediction_test)\n",
    "print(cm)"
   ]
  },
  {
   "cell_type": "code",
   "execution_count": 13,
   "metadata": {},
   "outputs": [
    {
     "data": {
      "text/plain": [
       "8"
      ]
     },
     "execution_count": 13,
     "metadata": {},
     "output_type": "execute_result"
    }
   ],
   "source": [
    "len(cm[0])"
   ]
  },
  {
   "cell_type": "code",
   "execution_count": 14,
   "metadata": {},
   "outputs": [
    {
     "data": {
      "text/plain": [
       "8"
      ]
     },
     "execution_count": 14,
     "metadata": {},
     "output_type": "execute_result"
    }
   ],
   "source": [
    "len(parties)"
   ]
  },
  {
   "cell_type": "code",
   "execution_count": 15,
   "metadata": {},
   "outputs": [
    {
     "data": {
      "text/plain": [
       "100"
      ]
     },
     "execution_count": 15,
     "metadata": {},
     "output_type": "execute_result"
    }
   ],
   "source": [
    "cm[0][1]"
   ]
  },
  {
   "cell_type": "code",
   "execution_count": 16,
   "metadata": {},
   "outputs": [
    {
     "name": "stdout",
     "output_type": "stream",
     "text": [
      "Most often confused list\n",
      "===========================\n",
      "C : M  occurred \t 115\n",
      "KD : M  occurred \t 167\n",
      "L : M  occurred \t 70\n",
      "M : KD  occurred \t 317\n",
      "MP : KD  occurred \t 115\n",
      "S : M  occurred \t 452\n",
      "SD : M  occurred \t 192\n",
      "V : KD  occurred \t 132\n"
     ]
    }
   ],
   "source": [
    "print(\"Most often confused list\")\n",
    "print(\"===========================\")\n",
    "for i in range(len(parties)):\n",
    "    temp_value = 0\n",
    "    temp_index = 0\n",
    "    for j in range(len(cm[i])):\n",
    "        if(i != j):\n",
    "            if(temp_value<cm[i][j]):\n",
    "                temp_value = cm[i][j]\n",
    "                temp_index = j\n",
    "    print(parties[i],\":\",parties[temp_index],\" occurred\",\"\\t\",temp_value)"
   ]
  },
  {
   "cell_type": "markdown",
   "metadata": {},
   "source": [
    "Take a minute to reflect on the question whether your results make sense."
   ]
  },
  {
   "cell_type": "markdown",
   "metadata": {},
   "source": [
    "From the above confusion matrix and most often confused list, it is clearer that there is a higher misclassification rate. Among this misclassification rate, out 8 parties, 5 parties are confused with party M, two with party KD and one with party V."
   ]
  },
  {
   "cell_type": "markdown",
   "metadata": {},
   "source": [
    "## Problem 6: Grid search"
   ]
  },
  {
   "cell_type": "markdown",
   "metadata": {},
   "source": [
    "Until now, you have been using the vectorizer and the Naive Bayes classifier with their default hyperparameters. When working with real-world applications, you would want to find settings for the hyperparameters that maximize the performance for the task at hand.\n",
    "\n",
    "Manually tweaking the hyperparameters of the various components of a vectorizer–classifier pipeline can be cumbersome. However, scikit-learn makes it possible to run an exhaustive search for the best hyperparameters over a grid of possible values. This method is known as **grid search**.\n",
    "\n",
    "The hyperparameters of a pipeline should never be tuned on the final test set. (Why would that be a bad idea?) Instead, one should either use a separate validation set, or run cross-validation over different folds. Here we will use cross-validation.\n",
    "\n",
    "Implement a grid search with 5-fold cross-validation to find the optimal parameters in a grid defined by the following choices for the hyperparameters:\n",
    "\n",
    "* In the vectorizer, try a set-of-words model in addition to the default bag-of-words model (two possible parameter values).\n",
    "* Also in the vectorizer, try extracting bigrams in addition to unigrams (two possible parameter values).\n",
    "* In the Naive Bayes classifier, try using additive smoothing with $\\alpha \\in \\{1, 0{.}1\\}$ (two possible parameter values).\n",
    "\n",
    "Use the class [GridSearchCV](https://scikit-learn.org/stable/modules/generated/sklearn.model_selection.GridSearchCV.html) from the scikit-learn library. Print the results of your best model, along with the parameter values that yielded these results."
   ]
  },
  {
   "cell_type": "code",
   "execution_count": 17,
   "metadata": {},
   "outputs": [
    {
     "data": {
      "text/plain": [
       "GridSearchCV(cv=5,\n",
       "             estimator=Pipeline(steps=[('count_vect', CountVectorizer()),\n",
       "                                       ('tfidf_transformer',\n",
       "                                        TfidfTransformer()),\n",
       "                                       ('nbClassifier', MultinomialNB())]),\n",
       "             param_grid={'count_vect__binary': [True, False],\n",
       "                         'count_vect__ngram_range': [(1, 1), (1, 2)],\n",
       "                         'nbClassifier__alpha': (1, 0.1)})"
      ]
     },
     "execution_count": 17,
     "metadata": {},
     "output_type": "execute_result"
    }
   ],
   "source": [
    "# TODO: Write code here to implement the grid search\n",
    "from sklearn.model_selection import GridSearchCV\n",
    "#Source : https://scikit-learn.org/stable/tutorial/text_analytics/working_with_text_data.html\n",
    "parameters = {\n",
    "    'count_vect__binary': [True, False],\n",
    "    'count_vect__ngram_range': [(1, 1), (1, 2)],\n",
    "    'nbClassifier__alpha': (1, 0.1),\n",
    "}\n",
    "\n",
    "gridCv = GridSearchCV(pipe, parameters, cv=5)\n",
    "gridCv.fit(x_train_balanced, y_train_balanced)"
   ]
  },
  {
   "cell_type": "code",
   "execution_count": 18,
   "metadata": {},
   "outputs": [
    {
     "name": "stdout",
     "output_type": "stream",
     "text": [
      "{'count_vect__binary': True, 'count_vect__ngram_range': (1, 2), 'nbClassifier__alpha': 0.1}\n"
     ]
    }
   ],
   "source": [
    "print(gridCv.best_params_)"
   ]
  },
  {
   "cell_type": "code",
   "execution_count": 19,
   "metadata": {},
   "outputs": [
    {
     "name": "stdout",
     "output_type": "stream",
     "text": [
      "################# Training ###################\n",
      "              precision    recall  f1-score   support\n",
      "\n",
      "           C       0.69      0.94      0.80       865\n",
      "          KD       0.60      0.99      0.75       743\n",
      "           L       0.73      1.00      0.84       719\n",
      "           M       0.77      0.77      0.77      2370\n",
      "          MP       0.80      0.77      0.78      1481\n",
      "           S       0.96      0.64      0.77      4261\n",
      "          SD       0.84      0.90      0.87      1010\n",
      "           V       0.66      0.94      0.78       894\n",
      "\n",
      "    accuracy                           0.79     12343\n",
      "   macro avg       0.76      0.87      0.79     12343\n",
      "weighted avg       0.82      0.79      0.78     12343\n",
      "\n",
      "################# Testing ###################\n",
      "              precision    recall  f1-score   support\n",
      "\n",
      "           C       0.32      0.46      0.38       671\n",
      "          KD       0.29      0.44      0.35       821\n",
      "           L       0.33      0.42      0.37       560\n",
      "           M       0.44      0.49      0.46      1644\n",
      "          MP       0.37      0.37      0.37       809\n",
      "           S       0.76      0.44      0.56      2773\n",
      "          SD       0.53      0.41      0.46      1060\n",
      "           V       0.43      0.60      0.50       950\n",
      "\n",
      "    accuracy                           0.46      9288\n",
      "   macro avg       0.44      0.45      0.43      9288\n",
      "weighted avg       0.51      0.46      0.47      9288\n",
      "\n"
     ]
    }
   ],
   "source": [
    "pipe = Pipeline([('count_vect',CountVectorizer(binary=True,ngram_range=(1,2))),\n",
    "                ('tfidf_transformer',TfidfTransformer()),\n",
    "                ('nbClassifier',MultinomialNB(alpha=0.1))])\n",
    "\n",
    "pipe.fit(x_train_balanced, y_train_balanced)\n",
    "\n",
    "print(\"################# Training ###################\")\n",
    "prediction_train = pipe.predict(x_train)\n",
    "print(classification_report(y_train, prediction_train, target_names=parties))\n",
    "\n",
    "print(\"################# Testing ###################\")\n",
    "prediction_test = pipe.predict(x_test)\n",
    "print(classification_report(y_test, prediction_test, target_names=parties))"
   ]
  },
  {
   "cell_type": "markdown",
   "metadata": {},
   "source": [
    "## Problem 7: Try to improve your results"
   ]
  },
  {
   "cell_type": "markdown",
   "metadata": {},
   "source": [
    "Scikit-learn makes it easy to test different vectorizer–classifier pipelines – among other things, it includes different types of logistic regression classifiers, support vector machines, and decision trees. Browse the library to see which methods are supported.\n",
    "\n",
    "Build a pipeline that you find interesting, and use grid search to find optimal settings for the hyperparameters. Print the results of your best model. Did you manage to get better results than the ones that you obtained in Problem&nbsp;6? Answer with a short text."
   ]
  },
  {
   "cell_type": "code",
   "execution_count": 20,
   "metadata": {},
   "outputs": [
    {
     "name": "stdout",
     "output_type": "stream",
     "text": [
      "{'count_vect__binary': False, 'count_vect__ngram_range': (1, 1), 'svm__alpha': 0.1}\n"
     ]
    }
   ],
   "source": [
    "# TODO: Write code here to search for a better model\n",
    "# source : https://scikit-learn.org/stable/tutorial/text_analytics/working_with_text_data.html\n",
    "from sklearn.linear_model import SGDClassifier\n",
    "pipe_2 = Pipeline([\n",
    "    ('count_vect', CountVectorizer()),\n",
    "    ('tfidf', TfidfTransformer()),\n",
    "    ('svm', SGDClassifier()),\n",
    "])\n",
    "\n",
    "parameters = {\n",
    "    'count_vect__binary': [True, False],\n",
    "    'count_vect__ngram_range': [(1, 1), (1, 2)],\n",
    "    'svm__alpha': (1.0, 0.1)\n",
    "}\n",
    "\n",
    "gridCv_2 = GridSearchCV(pipe_2, parameters, cv=5)\n",
    "gridCv_2.fit(x_train_balanced, y_train_balanced)\n",
    "\n",
    "print(gridCv_2.best_params_)"
   ]
  },
  {
   "cell_type": "code",
   "execution_count": 21,
   "metadata": {},
   "outputs": [
    {
     "name": "stdout",
     "output_type": "stream",
     "text": [
      "################# Training ###################\n",
      "              precision    recall  f1-score   support\n",
      "\n",
      "           C       0.71      0.70      0.71       719\n",
      "          KD       0.94      0.35      0.51       719\n",
      "           L       0.96      0.17      0.29       719\n",
      "           M       0.97      0.16      0.27       719\n",
      "          MP       0.76      0.54      0.63       719\n",
      "           S       0.97      0.20      0.33       719\n",
      "          SD       0.19      1.00      0.32       719\n",
      "           V       0.93      0.11      0.20       719\n",
      "\n",
      "    accuracy                           0.40      5752\n",
      "   macro avg       0.80      0.40      0.41      5752\n",
      "weighted avg       0.80      0.40      0.41      5752\n",
      "\n",
      "################# Testing ###################\n",
      "              precision    recall  f1-score   support\n",
      "\n",
      "           C       0.30      0.37      0.33       671\n",
      "          KD       0.54      0.08      0.14       821\n",
      "           L       0.55      0.05      0.09       560\n",
      "           M       0.77      0.04      0.08      1644\n",
      "          MP       0.29      0.29      0.29       809\n",
      "           S       0.88      0.08      0.14      2773\n",
      "          SD       0.15      0.98      0.26      1060\n",
      "           V       0.43      0.04      0.07       950\n",
      "\n",
      "    accuracy                           0.21      9288\n",
      "   macro avg       0.49      0.24      0.17      9288\n",
      "weighted avg       0.59      0.21      0.16      9288\n",
      "\n"
     ]
    }
   ],
   "source": [
    "pipe_2 = Pipeline([\n",
    "    ('count_vect', CountVectorizer(binary=True,ngram_range=(1,1))),\n",
    "    ('tfidf', TfidfTransformer()),\n",
    "    ('svm', SGDClassifier(alpha=0.1)),\n",
    "])\n",
    "\n",
    "pipe_2.fit(x_train_balanced, y_train_balanced)\n",
    "\n",
    "print(\"################# Training ###################\")\n",
    "prediction_train = pipe_2.predict(x_train_balanced)\n",
    "print(classification_report(y_train_balanced, prediction_train, target_names=parties))\n",
    "\n",
    "print(\"################# Testing ###################\")\n",
    "prediction_test = pipe_2.predict(x_test)\n",
    "print(classification_report(y_test, prediction_test, target_names=parties))"
   ]
  },
  {
   "cell_type": "markdown",
   "metadata": {},
   "source": [
    "We ran the linear SVM on the train data and test data and found from the classification report that, it is underperforming or its performance is poorer when compared with the classifier in problem 6. So, in our view, Problem 6 classifier is best for this data."
   ]
  },
  {
   "cell_type": "markdown",
   "metadata": {},
   "source": [
    "<div class=\"alert alert-info\">\n",
    "    Please read the section ‘General information’ on the ‘Labs’ page of the course website before submitting this notebook!\n",
    "</div>"
   ]
  }
 ],
 "metadata": {
  "kernelspec": {
   "display_name": "Python 3",
   "language": "python",
   "name": "python3"
  },
  "language_info": {
   "codemirror_mode": {
    "name": "ipython",
    "version": 3
   },
   "file_extension": ".py",
   "mimetype": "text/x-python",
   "name": "python",
   "nbconvert_exporter": "python",
   "pygments_lexer": "ipython3",
   "version": "3.7.6"
  }
 },
 "nbformat": 4,
 "nbformat_minor": 2
}
